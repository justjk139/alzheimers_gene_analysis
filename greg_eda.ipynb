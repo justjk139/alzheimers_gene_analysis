{
 "cells": [
  {
   "cell_type": "code",
   "execution_count": 129,
   "metadata": {},
   "outputs": [],
   "source": [
    "from Bio import SeqIO"
   ]
  },
  {
   "cell_type": "code",
   "execution_count": 130,
   "metadata": {},
   "outputs": [],
   "source": [
    "import pandas as pd\n",
    "import matplotlib.pyplot as plt"
   ]
  },
  {
   "cell_type": "code",
   "execution_count": 131,
   "metadata": {},
   "outputs": [
    {
     "data": {
      "text/plain": [
       "<Bio.SeqIO.FastaIO.FastaIterator at 0x7fab582fe890>"
      ]
     },
     "execution_count": 131,
     "metadata": {},
     "output_type": "execute_result"
    }
   ],
   "source": [
    "fasta_sequences = SeqIO.parse(open('ncrna.fa'),'fasta')\n",
    "fasta_sequences"
   ]
  },
  {
   "cell_type": "code",
   "execution_count": 132,
   "metadata": {},
   "outputs": [],
   "source": [
    "lst = []\n",
    "for fasta in fasta_sequences:\n",
    "    identification = fasta.id\n",
    "    name = fasta.description\n",
    "    bio_type = name.split(':')[7].split(\" \")[0]\n",
    "    if bio_type == 'miRNA':\n",
    "        lst.append(identification)"
   ]
  },
  {
   "cell_type": "code",
   "execution_count": 133,
   "metadata": {},
   "outputs": [],
   "source": [
    "df = pd.read_csv(\"kallisto.csv\", index_col = 0)\n",
    "mirnas = df[df['target_id'].isin(lst)]\n",
    "mirnas = mirnas.reset_index().drop([\"index\"], axis = 1)\n",
    "numeric_cols = [col for col in mirnas if mirnas[col].dtype.kind != 'O']\n",
    "mirnas_padded = mirnas[numeric_cols] + 1"
   ]
  },
  {
   "cell_type": "code",
   "execution_count": 134,
   "metadata": {},
   "outputs": [],
   "source": [
    "#mirnas_padded.to_csv(\"counts.csv\")"
   ]
  },
  {
   "cell_type": "code",
   "execution_count": 135,
   "metadata": {},
   "outputs": [
    {
     "data": {
      "text/plain": [
       "array([[<matplotlib.axes._subplots.AxesSubplot object at 0x7fab6a9cdfd0>]],\n",
       "      dtype=object)"
      ]
     },
     "execution_count": 135,
     "metadata": {},
     "output_type": "execute_result"
    },
    {
     "data": {
      "image/png": "[encoded data removed]",
      "text/plain": [
       "<Figure size 432x288 with 1 Axes>"
      ]
     },
     "metadata": {
      "needs_background": "light"
     },
     "output_type": "display_data"
    }
   ],
   "source": [
    "mirnas = mirnas.set_index(['target_id'])\n",
    "mirnas = mirnas[(mirnas.T != 0).any()]\n",
    "var = pd.DataFrame(mirnas.var(axis = 0))\n",
    "var.hist()"
   ]
  },
  {
   "cell_type": "code",
   "execution_count": 136,
   "metadata": {},
   "outputs": [],
   "source": [
    "mirnas = mirnas + 1"
   ]
  },
  {
   "cell_type": "code",
   "execution_count": 137,
   "metadata": {},
   "outputs": [],
   "source": [
    "runs = pd.read_csv(\"Filtered_Runs.csv\")\n",
    "groups = pd.DataFrame(runs.groupby(['GROUP'])['Run'].apply(list).reset_index(name='new'))\n",
    "ad = groups.loc[0, 'new']\n",
    "ctl = groups.loc[1, 'new']\n",
    "ads = mirnas[ad]\n",
    "ctls = mirnas[ctl]"
   ]
  },
  {
   "cell_type": "code",
   "execution_count": 138,
   "metadata": {},
   "outputs": [],
   "source": [
    "#ads.to_csv(\"ads.csv\")\n",
    "#ctls.to_csv(\"ctls.csv\")"
   ]
  },
  {
   "cell_type": "code",
   "execution_count": 139,
   "metadata": {},
   "outputs": [],
   "source": [
    "##Now we move onto post DESeq/Wilcox Stuff stuff"
   ]
  },
  {
   "cell_type": "code",
   "execution_count": 140,
   "metadata": {},
   "outputs": [],
   "source": [
    "lfc = pd.read_csv(\"ordered.csv\")\n",
    "lfc = lfc[lfc['pvalue'] != 1]"
   ]
  },
  {
   "cell_type": "code",
   "execution_count": 141,
   "metadata": {},
   "outputs": [],
   "source": [
    "deseq_lst = list(lfc['Unnamed: 0'].values)"
   ]
  },
  {
   "cell_type": "code",
   "execution_count": 142,
   "metadata": {},
   "outputs": [],
   "source": [
    "wilcox_r = pd.read_csv(\"wilcox_r.csv\", delim_whitespace=True)\n",
    "wilcox_r['target_id'] = mirnas.reset_index()['target_id']\n",
    "wilcox_r = wilcox_r.sort_values(['log2fold'])"
   ]
  },
  {
   "cell_type": "code",
   "execution_count": 143,
   "metadata": {},
   "outputs": [
    {
     "data": {
      "text/plain": [
       "<matplotlib.axes._subplots.AxesSubplot at 0x7fab786a5e50>"
      ]
     },
     "execution_count": 143,
     "metadata": {},
     "output_type": "execute_result"
    },
    {
     "data": {
      "image/png": "[encoded data removed]",
      "text/plain": [
       "<Figure size 432x288 with 1 Axes>"
      ]
     },
     "metadata": {
      "needs_background": "light"
     },
     "output_type": "display_data"
    }
   ],
   "source": [
    "df = pd.read_csv(\"mirna_counts.csv\", index_col = 0)\n",
    "#Wilcox\n",
    "#ENST00000619233.1 (Most Upregulated)\n",
    "#ENST00000362251.4 (Most Downregulated)\n",
    "wilcox_bp = df[(df['target_id'] == 'ENST00000619233.1') | (df['target_id'] == 'ENST00000362251.4')]\n",
    "wilcox_bp = wilcox_bp.set_index(['target_id']).T\n",
    "\n",
    "#DESeq\n",
    "#ENST00000390223.3 (Most Upregulated)\n",
    "#ENST00000629190.1 (Most Downregulated)\n",
    "deseq_bp = df[(df['target_id'] == 'ENST00000390223.3') | (df['target_id'] == 'ENST00000629190.1')]\n",
    "deseq_bp = deseq_bp.set_index(['target_id']).T\n",
    "\n",
    "deseq_bp.boxplot()"
   ]
  },
  {
   "cell_type": "code",
   "execution_count": 144,
   "metadata": {},
   "outputs": [
    {
     "data": {
      "text/plain": [
       "<matplotlib.axes._subplots.AxesSubplot at 0x7fabb8ad2850>"
      ]
     },
     "execution_count": 144,
     "metadata": {},
     "output_type": "execute_result"
    },
    {
     "data": {
      "image/png": "[encoded data removed]",
      "text/plain": [
       "<Figure size 432x288 with 1 Axes>"
      ]
     },
     "metadata": {
      "needs_background": "light"
     },
     "output_type": "display_data"
    }
   ],
   "source": [
    "wilcox_bp.boxplot()"
   ]
  },
  {
   "cell_type": "code",
   "execution_count": null,
   "metadata": {},
   "outputs": [],
   "source": []
  },
  {
   "cell_type": "code",
   "execution_count": null,
   "metadata": {},
   "outputs": [],
   "source": []
  },
  {
   "cell_type": "code",
   "execution_count": null,
   "metadata": {},
   "outputs": [],
   "source": []
  },
  {
   "cell_type": "code",
   "execution_count": null,
   "metadata": {},
   "outputs": [],
   "source": []
  },
  {
   "cell_type": "code",
   "execution_count": null,
   "metadata": {},
   "outputs": [],
   "source": []
  },
  {
   "cell_type": "code",
   "execution_count": 38,
   "metadata": {},
   "outputs": [
    {
     "data": {
      "text/plain": [
       "<matplotlib.axes._subplots.AxesSubplot at 0x7f836a014f50>"
      ]
     },
     "execution_count": 38,
     "metadata": {},
     "output_type": "execute_result"
    },
    {
     "data": {
      "image/png": "[encoded data removed]",
      "text/plain": [
       "<Figure size 432x288 with 1 Axes>"
      ]
     },
     "metadata": {
      "needs_background": "light"
     },
     "output_type": "display_data"
    }
   ],
   "source": [
    "deseq_bp.boxplot()"
   ]
  },
  {
   "cell_type": "code",
   "execution_count": 39,
   "metadata": {},
   "outputs": [
    {
     "data": {
      "text/plain": [
       "<matplotlib.axes._subplots.AxesSubplot at 0x7f8348333a50>"
      ]
     },
     "execution_count": 39,
     "metadata": {},
     "output_type": "execute_result"
    },
    {
     "data": {
      "image/png": "[encoded data removed]",
      "text/plain": [
       "<Figure size 432x288 with 1 Axes>"
      ]
     },
     "metadata": {
      "needs_background": "light"
     },
     "output_type": "display_data"
    }
   ],
   "source": [
    "wilcox_bp.boxplot()"
   ]
  }
 ],
 "metadata": {
  "kernelspec": {
   "display_name": "Python 3",
   "language": "python",
   "name": "python3"
  },
  "language_info": {
   "codemirror_mode": {
    "name": "ipython",
    "version": 3
   },
   "file_extension": ".py",
   "mimetype": "text/x-python",
   "name": "python",
   "nbconvert_exporter": "python",
   "pygments_lexer": "ipython3",
   "version": "3.7.4"
  }
 },
 "nbformat": 4,
 "nbformat_minor": 2
}
