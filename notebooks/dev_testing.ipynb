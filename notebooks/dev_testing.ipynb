{
 "cells": [
  {
   "cell_type": "code",
   "execution_count": 9,
   "metadata": {},
   "outputs": [],
   "source": [
    "import os"
   ]
  },
  {
   "cell_type": "code",
   "execution_count": 10,
   "metadata": {},
   "outputs": [],
   "source": [
    "# Cutadapt adapter sequence: AGATCGGAAGAGC"
   ]
  },
  {
   "cell_type": "code",
   "execution_count": 11,
   "metadata": {},
   "outputs": [],
   "source": [
    "def get_file_names():\n",
    "    raw_files = []\n",
    "    os.chdir(\"/teams/DSC180A_FA20_A00/b04genetics/group_1/raw_data\")\n",
    "    raw_files = os.listdir()\n",
    "    os.chdir(\"/datasets/home/40/840/r1cummin/alzheimers_gene_analysis\")\n",
    "    return raw_files"
   ]
  },
  {
   "cell_type": "code",
   "execution_count": 12,
   "metadata": {},
   "outputs": [
    {
     "data": {
      "text/plain": [
       "['SRR837496.fastq.gz',\n",
       " 'SRR837499.fastq.gz',\n",
       " 'SRR837470.fastq.gz',\n",
       " 'SRR837438.fastq.gz',\n",
       " 'SRR837437.fastq.gz',\n",
       " 'SRR837504.fastq.gz',\n",
       " 'SRR837489.fastq.gz',\n",
       " 'SRR837486.fastq.gz',\n",
       " 'SRR837460.fastq.gz',\n",
       " 'SRR837450.fastq.gz',\n",
       " 'SRR837440.fastq.gz',\n",
       " 'SRR837503.fastq.gz',\n",
       " 'SRR837481.fastq.gz',\n",
       " 'SRR837467.fastq.gz',\n",
       " 'SRR837468.fastq.gz',\n",
       " 'SRR837491.fastq.gz',\n",
       " 'SRR837478.fastq.gz',\n",
       " 'SRR837477.fastq.gz',\n",
       " 'SRR837448.fastq.gz',\n",
       " 'SRR837447.fastq.gz',\n",
       " 'SRR837457.fastq.gz',\n",
       " 'SRR837458.fastq.gz',\n",
       " 'SRR837451.fastq.gz',\n",
       " 'SRR837441.fastq.gz',\n",
       " 'SRR837471.fastq.gz',\n",
       " 'SRR837498.fastq.gz',\n",
       " 'SRR837497.fastq.gz',\n",
       " 'SRR837505.fastq.gz',\n",
       " 'SRR837439.fastq.gz',\n",
       " 'SRR837461.fastq.gz',\n",
       " 'SRR837487.fastq.gz',\n",
       " 'SRR837488.fastq.gz',\n",
       " 'SRR837446.fastq.gz',\n",
       " 'SRR837449.fastq.gz',\n",
       " 'SRR837459.fastq.gz',\n",
       " 'SRR837456.fastq.gz',\n",
       " 'SRR837502.fastq.gz',\n",
       " 'SRR837469.fastq.gz',\n",
       " 'SRR837466.fastq.gz',\n",
       " 'SRR837480.fastq.gz',\n",
       " 'SRR837476.fastq.gz',\n",
       " 'SRR837479.fastq.gz',\n",
       " 'SRR837490.fastq.gz',\n",
       " 'SRR837465.fastq.gz',\n",
       " 'SRR837483.fastq.gz',\n",
       " 'SRR837501.fastq.gz',\n",
       " 'SRR837475.fastq.gz',\n",
       " 'SRR837493.fastq.gz',\n",
       " 'SRR837445.fastq.gz',\n",
       " 'SRR837455.fastq.gz',\n",
       " 'SRR837472.fastq.gz',\n",
       " 'SRR837494.fastq.gz',\n",
       " 'SRR837462.fastq.gz',\n",
       " 'SRR837484.fastq.gz',\n",
       " 'SRR837506.fastq.gz',\n",
       " 'SRR837452.fastq.gz',\n",
       " 'SRR837442.fastq.gz',\n",
       " 'SRR837444.fastq.gz',\n",
       " 'SRR837454.fastq.gz',\n",
       " 'SRR837482.fastq.gz',\n",
       " 'SRR837464.fastq.gz',\n",
       " 'SRR837500.fastq.gz',\n",
       " 'SRR837492.fastq.gz',\n",
       " 'SRR837474.fastq.gz',\n",
       " 'SRR837453.fastq.gz',\n",
       " 'SRR837443.fastq.gz',\n",
       " 'SRR837495.fastq.gz',\n",
       " 'SRR837473.fastq.gz',\n",
       " 'SRR837485.fastq.gz',\n",
       " 'SRR837463.fastq.gz']"
      ]
     },
     "execution_count": 12,
     "metadata": {},
     "output_type": "execute_result"
    }
   ],
   "source": [
    "get_file_names()"
   ]
  },
  {
   "cell_type": "markdown",
   "metadata": {},
   "source": [
    "# FASTQC"
   ]
  },
  {
   "cell_type": "code",
   "execution_count": 13,
   "metadata": {},
   "outputs": [],
   "source": [
    "def fastqc(raw_files):\n",
    "    pass_data = [] #creating array that will hold name of passing data\n",
    "    fail_data = [] #creating array that will hold name of not passing data\n",
    "    # changing dir to mine so I can create a folder \n",
    "    for i in raw_files:\n",
    "        print(i)\n",
    "        os.chdir('..')\n",
    "        os.chdir('/datasets/home/40/840/r1cummin/alzheimers_gene_analysis')\n",
    "        print(\"making dir\")\n",
    "        os.system('mkdir fastq_out')\n",
    "        print(\"running fastqc...\")\n",
    "        os.system('/opt/FastQC/fastqc /teams/DSC180A_FA20_A00/b04genetics/group_1/raw_data/'+i+' --extract --outdir=fastq_out/')\n",
    "        print(\"Fastqc finished\")\n",
    "      \n",
    "        print(\"Opening file\")\n",
    "        with open('fastq_out/'+i[0:-3].replace('.','_')+'c/fastqc_data.txt') as f:\n",
    "            first_line = f.readlines()[1]\n",
    "        print(\"Seeing if pass in file... then adding to array\")\n",
    "        if 'pass' in first_line:\n",
    "            pass_data.append(i)\n",
    "        else:\n",
    "            fail_data.append(i)\n",
    "        print(\"Now deleting dir in order so that we can do the next iteration:\")\n",
    "        os.system('rm -rf fastq_out')\n",
    "    return pass_data, fail_data"
   ]
  },
  {
   "cell_type": "code",
   "execution_count": 14,
   "metadata": {},
   "outputs": [
    {
     "name": "stdout",
     "output_type": "stream",
     "text": [
      "SRR837496.fastq.gz\n",
      "making dir\n",
      "running fastqc...\n",
      "Fastqc finished\n",
      "Opening file\n",
      "Seeing if pass in file... then adding to array\n",
      "Now deleting dir in order so that we can do the next iteration:\n",
      "SRR837499.fastq.gz\n",
      "making dir\n",
      "running fastqc...\n",
      "Fastqc finished\n",
      "Opening file\n",
      "Seeing if pass in file... then adding to array\n",
      "Now deleting dir in order so that we can do the next iteration:\n",
      "SRR837470.fastq.gz\n",
      "making dir\n",
      "running fastqc...\n",
      "Fastqc finished\n",
      "Opening file\n",
      "Seeing if pass in file... then adding to array\n",
      "Now deleting dir in order so that we can do the next iteration:\n",
      "SRR837438.fastq.gz\n",
      "making dir\n",
      "running fastqc...\n",
      "Fastqc finished\n",
      "Opening file\n",
      "Seeing if pass in file... then adding to array\n",
      "Now deleting dir in order so that we can do the next iteration:\n",
      "SRR837437.fastq.gz\n",
      "making dir\n",
      "running fastqc...\n",
      "Fastqc finished\n",
      "Opening file\n",
      "Seeing if pass in file... then adding to array\n",
      "Now deleting dir in order so that we can do the next iteration:\n",
      "SRR837504.fastq.gz\n",
      "making dir\n",
      "running fastqc...\n",
      "Fastqc finished\n",
      "Opening file\n",
      "Seeing if pass in file... then adding to array\n",
      "Now deleting dir in order so that we can do the next iteration:\n",
      "SRR837489.fastq.gz\n",
      "making dir\n",
      "running fastqc...\n",
      "Fastqc finished\n",
      "Opening file\n",
      "Seeing if pass in file... then adding to array\n",
      "Now deleting dir in order so that we can do the next iteration:\n",
      "SRR837486.fastq.gz\n",
      "making dir\n",
      "running fastqc...\n",
      "Fastqc finished\n",
      "Opening file\n",
      "Seeing if pass in file... then adding to array\n",
      "Now deleting dir in order so that we can do the next iteration:\n",
      "SRR837460.fastq.gz\n",
      "making dir\n",
      "running fastqc...\n",
      "Fastqc finished\n",
      "Opening file\n",
      "Seeing if pass in file... then adding to array\n",
      "Now deleting dir in order so that we can do the next iteration:\n",
      "SRR837450.fastq.gz\n",
      "making dir\n",
      "running fastqc...\n",
      "Fastqc finished\n",
      "Opening file\n",
      "Seeing if pass in file... then adding to array\n",
      "Now deleting dir in order so that we can do the next iteration:\n",
      "SRR837440.fastq.gz\n",
      "making dir\n",
      "running fastqc...\n",
      "Fastqc finished\n",
      "Opening file\n",
      "Seeing if pass in file... then adding to array\n",
      "Now deleting dir in order so that we can do the next iteration:\n",
      "SRR837503.fastq.gz\n",
      "making dir\n",
      "running fastqc...\n",
      "Fastqc finished\n",
      "Opening file\n",
      "Seeing if pass in file... then adding to array\n",
      "Now deleting dir in order so that we can do the next iteration:\n",
      "SRR837481.fastq.gz\n",
      "making dir\n",
      "running fastqc...\n",
      "Fastqc finished\n",
      "Opening file\n"
     ]
    },
    {
     "ename": "FileNotFoundError",
     "evalue": "[Errno 2] No such file or directory: 'fastq_out/SRR837481_fastqc/fastqc_data.txt'",
     "output_type": "error",
     "traceback": [
      "\u001b[0;31m\u001b[0m",
      "\u001b[0;31mFileNotFoundError\u001b[0mTraceback (most recent call last)",
      "\u001b[0;32m<ipython-input-14-92f377e693fa>\u001b[0m in \u001b[0;36m<module>\u001b[0;34m\u001b[0m\n\u001b[1;32m      1\u001b[0m \u001b[0mraw_files\u001b[0m \u001b[0;34m=\u001b[0m \u001b[0mget_file_names\u001b[0m\u001b[0;34m(\u001b[0m\u001b[0;34m)\u001b[0m\u001b[0;34m\u001b[0m\u001b[0;34m\u001b[0m\u001b[0m\n\u001b[0;32m----> 2\u001b[0;31m \u001b[0mpass_data\u001b[0m\u001b[0;34m,\u001b[0m \u001b[0mfail_data\u001b[0m \u001b[0;34m=\u001b[0m \u001b[0mfastqc\u001b[0m\u001b[0;34m(\u001b[0m\u001b[0mraw_files\u001b[0m\u001b[0;34m)\u001b[0m\u001b[0;34m\u001b[0m\u001b[0;34m\u001b[0m\u001b[0m\n\u001b[0m",
      "\u001b[0;32m<ipython-input-13-8d4b571f6d17>\u001b[0m in \u001b[0;36mfastqc\u001b[0;34m(raw_files)\u001b[0m\n\u001b[1;32m     14\u001b[0m \u001b[0;34m\u001b[0m\u001b[0m\n\u001b[1;32m     15\u001b[0m         \u001b[0mprint\u001b[0m\u001b[0;34m(\u001b[0m\u001b[0;34m\"Opening file\"\u001b[0m\u001b[0;34m)\u001b[0m\u001b[0;34m\u001b[0m\u001b[0;34m\u001b[0m\u001b[0m\n\u001b[0;32m---> 16\u001b[0;31m         \u001b[0;32mwith\u001b[0m \u001b[0mopen\u001b[0m\u001b[0;34m(\u001b[0m\u001b[0;34m'fastq_out/'\u001b[0m\u001b[0;34m+\u001b[0m\u001b[0mi\u001b[0m\u001b[0;34m[\u001b[0m\u001b[0;36m0\u001b[0m\u001b[0;34m:\u001b[0m\u001b[0;34m-\u001b[0m\u001b[0;36m3\u001b[0m\u001b[0;34m]\u001b[0m\u001b[0;34m.\u001b[0m\u001b[0mreplace\u001b[0m\u001b[0;34m(\u001b[0m\u001b[0;34m'.'\u001b[0m\u001b[0;34m,\u001b[0m\u001b[0;34m'_'\u001b[0m\u001b[0;34m)\u001b[0m\u001b[0;34m+\u001b[0m\u001b[0;34m'c/fastqc_data.txt'\u001b[0m\u001b[0;34m)\u001b[0m \u001b[0;32mas\u001b[0m \u001b[0mf\u001b[0m\u001b[0;34m:\u001b[0m\u001b[0;34m\u001b[0m\u001b[0;34m\u001b[0m\u001b[0m\n\u001b[0m\u001b[1;32m     17\u001b[0m             \u001b[0mfirst_line\u001b[0m \u001b[0;34m=\u001b[0m \u001b[0mf\u001b[0m\u001b[0;34m.\u001b[0m\u001b[0mreadlines\u001b[0m\u001b[0;34m(\u001b[0m\u001b[0;34m)\u001b[0m\u001b[0;34m[\u001b[0m\u001b[0;36m1\u001b[0m\u001b[0;34m]\u001b[0m\u001b[0;34m\u001b[0m\u001b[0;34m\u001b[0m\u001b[0m\n\u001b[1;32m     18\u001b[0m         \u001b[0mprint\u001b[0m\u001b[0;34m(\u001b[0m\u001b[0;34m\"Seeing if pass in file... then adding to array\"\u001b[0m\u001b[0;34m)\u001b[0m\u001b[0;34m\u001b[0m\u001b[0;34m\u001b[0m\u001b[0m\n",
      "\u001b[0;31mFileNotFoundError\u001b[0m: [Errno 2] No such file or directory: 'fastq_out/SRR837481_fastqc/fastqc_data.txt'"
     ]
    }
   ],
   "source": [
    "raw_files = get_file_names()\n",
    "pass_data, fail_data = fastqc(raw_files)"
   ]
  },
  {
   "cell_type": "markdown",
   "metadata": {},
   "source": [
    "# CUTADAPT"
   ]
  },
  {
   "cell_type": "code",
   "execution_count": 17,
   "metadata": {},
   "outputs": [
    {
     "name": "stdout",
     "output_type": "stream",
     "text": [
      "making temp dir\n",
      "running cutadapt\n"
     ]
    },
    {
     "data": {
      "text/plain": [
       "0"
      ]
     },
     "execution_count": 17,
     "metadata": {},
     "output_type": "execute_result"
    }
   ],
   "source": [
    "print(\"making temp dir\")\n",
    "os.system('mkdir cutadapt_tmp')\n",
    "print(\"running cutadapt\")\n",
    "os.system('cutadapt -a AGATCGGAAGAGC -o cutadapt_tmp/SRR837460.fastq.gz /teams/DSC180A_FA20_A00/b04genetics/group_1/raw_data/SRR837460.fastq.gz --cores=32')"
   ]
  },
  {
   "cell_type": "code",
   "execution_count": 6,
   "metadata": {},
   "outputs": [],
   "source": [
    "def cutadapt(pass_data):\n",
    "    initial = 0\n",
    "    cut_fastq_files = []\n",
    "    print(\"making temp dir\")\n",
    "    os.system('mkdir cutadapt_tmp')\n",
    "    for i in (pass_data):\n",
    "        print(\"Starting cutadapt:\")\n",
    "        os.system('cutadapt -a AGATCGGAAGAGC -o cutadapt_tmp/'+i[0:-11]+'.fastq.gz /datasets/srp073813/'+i+' --cores=32')\n",
    "        cut_fastq_files.append(str(pass_data[initial][0:-11])+'.1.fastq.gz')\n",
    "        print(\"cutadapt finished on this pair, starting on next pair:\")\n",
    "        initial = initial + 1\n",
    "    print(\"cutadapt finished in its entirety\")\n",
    "    return cut_fastq_files"
   ]
  },
  {
   "cell_type": "markdown",
   "metadata": {},
   "source": [
    "# 2nd FASTQC"
   ]
  },
  {
   "cell_type": "code",
   "execution_count": 1,
   "metadata": {},
   "outputs": [],
   "source": [
    "def second_fastqc(cut_fastq_files):\n",
    "    # reRunning the cutadapt files through fastqc\n",
    "\n",
    "\n",
    "    pass_cut_data = [] #creating array that will hold name of passing data\n",
    "    fail_cut_data = [] #creating array that will hold name of not passing data\n",
    "\n",
    "    print('Getting name of cutadapt files')\n",
    "    os.chdir('tmp')\n",
    "    cut_fastq_files = os.listdir()\n",
    "\n",
    "    for i in cut_fastq_files:\n",
    "        print(i)\n",
    "        os.chdir('..')\n",
    "        print(\"making dir...\")\n",
    "        os.system('mkdir cut_fastq_out')\n",
    "        print(\"running fastqc...\")\n",
    "        os.system('/opt/FastQC/fastqc tmp/'+i+' --extract --outdir=cut_fastq_out/')\n",
    "        print(\"Fastqc finished\")\n",
    "        \n",
    "        print(\"Opening file\")\n",
    "        with open('cut_fastq_out/'+i[0:-3][::-1].replace('.','_',1)[::-1]+'c/fastqc_data.txt') as f:\n",
    "            cut_first_line = f.readlines()[1]\n",
    "        print(\"Seeing if pass in file... then adding to array\")\n",
    "        if 'pass' in cut_first_line:\n",
    "            pass_cut_data.append(i)\n",
    "        else:\n",
    "            fail_cut_data.append(i)\n",
    "        print(\"Now deleting dir in order so that we can do the next iteration:\")\n",
    "#         os.chdir('..')\n",
    "#         os.chdir('/datasets/home/40/840/r1cummin/DSC180A-Checkpoint-02')\n",
    "        os.system('rm -rf cut_fastq_out')\n",
    "    return pass_cut_data, fail_cut_data"
   ]
  },
  {
   "cell_type": "markdown",
   "metadata": {},
   "source": [
    "# Kallisto"
   ]
  },
  {
   "cell_type": "code",
   "execution_count": 2,
   "metadata": {},
   "outputs": [],
   "source": [
    "def kallisto(pass_cut_data):\n",
    "    initial = 0\n",
    "    print(\"Making dir for Kallisto Output after test:\")\n",
    "    os.system(\"mkdir kallisto_tmp\")\n",
    "    for i in range(int(len(pass_cut_data)/2)):\n",
    "        print(\"Running Kallisto:\")\n",
    "        os.system(\"/opt/kallisto_linux-v0.42.4/kallisto quant -i /datasets/srp073813/reference/kallisto_transcripts.idx -o kallisto_tmp/kallisto_output_\"+pass_cut_data[i][0:10]+\" -b 0 \"+pass_cut_data[initial]+\" \"+pass_cut_data[initial+1]+\" -t 10\")\n",
    "        initial = initial + 2\n",
    "    print(\"Kallisto successfully ran\")\n",
    "    print(\"Moving the data to data/out/\")\n",
    "    os.system(\"mkdir out\")\n",
    "    os.system(\"mv out data\")\n",
    "    os.system(\"mv kallisto_tmp data/out\")\n",
    "    return"
   ]
  }
 ],
 "metadata": {
  "kernelspec": {
   "display_name": "Python 3",
   "language": "python",
   "name": "python3"
  },
  "language_info": {
   "codemirror_mode": {
    "name": "ipython",
    "version": 3
   },
   "file_extension": ".py",
   "mimetype": "text/x-python",
   "name": "python",
   "nbconvert_exporter": "python",
   "pygments_lexer": "ipython3",
   "version": "3.7.6"
  }
 },
 "nbformat": 4,
 "nbformat_minor": 4
}
